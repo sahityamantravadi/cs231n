{
 "cells": [
  {
   "cell_type": "markdown",
   "metadata": {},
   "source": [
    "# Predicting Site from Extracted Features"
   ]
  },
  {
   "cell_type": "code",
   "execution_count": 1,
   "metadata": {},
   "outputs": [],
   "source": [
    "import numpy as np\n",
    "import pandas as pd\n",
    "import matplotlib.pyplot as plt\n",
    "from sklearn.linear_model import LogisticRegression\n",
    "import random"
   ]
  },
  {
   "cell_type": "code",
   "execution_count": 22,
   "metadata": {},
   "outputs": [
    {
     "name": "stdout",
     "output_type": "stream",
     "text": [
      "(1101, 69)\n",
      "(1103, 7)\n"
     ]
    }
   ],
   "source": [
    "X_abide_raw = pd.read_csv('/home/smantra/finalproject/x_abide.csv')\n",
    "y_abide_raw = pd.read_csv('/home/smantra/finalproject/y_abide.csv')\n",
    "print(X_abide_raw.shape)\n",
    "print(y_abide_raw.shape)"
   ]
  },
  {
   "cell_type": "code",
   "execution_count": 23,
   "metadata": {},
   "outputs": [
    {
     "data": {
      "text/html": [
       "<div>\n",
       "<style scoped>\n",
       "    .dataframe tbody tr th:only-of-type {\n",
       "        vertical-align: middle;\n",
       "    }\n",
       "\n",
       "    .dataframe tbody tr th {\n",
       "        vertical-align: top;\n",
       "    }\n",
       "\n",
       "    .dataframe thead th {\n",
       "        text-align: right;\n",
       "    }\n",
       "</style>\n",
       "<table border=\"1\" class=\"dataframe\">\n",
       "  <thead>\n",
       "    <tr style=\"text-align: right;\">\n",
       "      <th></th>\n",
       "      <th>subject_id</th>\n",
       "      <th>site</th>\n",
       "      <th>rater_1</th>\n",
       "      <th>rater_2</th>\n",
       "      <th>rater_3</th>\n",
       "      <th>site_label</th>\n",
       "      <th>qc_label</th>\n",
       "    </tr>\n",
       "  </thead>\n",
       "  <tbody>\n",
       "    <tr>\n",
       "      <th>0</th>\n",
       "      <td>50002</td>\n",
       "      <td>PITT</td>\n",
       "      <td>NaN</td>\n",
       "      <td>1.0</td>\n",
       "      <td>1</td>\n",
       "      <td>8</td>\n",
       "      <td>3</td>\n",
       "    </tr>\n",
       "    <tr>\n",
       "      <th>1</th>\n",
       "      <td>50003</td>\n",
       "      <td>PITT</td>\n",
       "      <td>-1.0</td>\n",
       "      <td>NaN</td>\n",
       "      <td>1</td>\n",
       "      <td>8</td>\n",
       "      <td>0</td>\n",
       "    </tr>\n",
       "    <tr>\n",
       "      <th>2</th>\n",
       "      <td>50004</td>\n",
       "      <td>PITT</td>\n",
       "      <td>NaN</td>\n",
       "      <td>1.0</td>\n",
       "      <td>1</td>\n",
       "      <td>8</td>\n",
       "      <td>3</td>\n",
       "    </tr>\n",
       "    <tr>\n",
       "      <th>3</th>\n",
       "      <td>50005</td>\n",
       "      <td>PITT</td>\n",
       "      <td>NaN</td>\n",
       "      <td>1.0</td>\n",
       "      <td>1</td>\n",
       "      <td>8</td>\n",
       "      <td>3</td>\n",
       "    </tr>\n",
       "    <tr>\n",
       "      <th>4</th>\n",
       "      <td>50006</td>\n",
       "      <td>PITT</td>\n",
       "      <td>0.0</td>\n",
       "      <td>1.0</td>\n",
       "      <td>1</td>\n",
       "      <td>8</td>\n",
       "      <td>2</td>\n",
       "    </tr>\n",
       "  </tbody>\n",
       "</table>\n",
       "</div>"
      ],
      "text/plain": [
       "   subject_id  site  rater_1  rater_2  rater_3  site_label  qc_label\n",
       "0       50002  PITT      NaN      1.0        1           8         3\n",
       "1       50003  PITT     -1.0      NaN        1           8         0\n",
       "2       50004  PITT      NaN      1.0        1           8         3\n",
       "3       50005  PITT      NaN      1.0        1           8         3\n",
       "4       50006  PITT      0.0      1.0        1           8         2"
      ]
     },
     "execution_count": 23,
     "metadata": {},
     "output_type": "execute_result"
    }
   ],
   "source": [
    "y_abide_raw.head()"
   ]
  },
  {
   "cell_type": "code",
   "execution_count": 19,
   "metadata": {},
   "outputs": [],
   "source": [
    "#y_abide_raw['site_label'] = pd.Categorical(y_abide_raw.site).codes\n",
    "#y_abide_raw.to_csv('/home/smantra/finalproject/y_abide.csv',  index=False)\n",
    "#qc3_abide = y_abide_raw.iloc[:,2:5]\n",
    "#qc_abide = np.int32((3 * qc3_abide.mean(axis=1)).round())\n",
    "#y_abide_raw['qc_label'] = qc_abide\n"
   ]
  },
  {
   "cell_type": "code",
   "execution_count": 15,
   "metadata": {},
   "outputs": [],
   "source": [
    "full_abide = pd.concat([X_abide_raw.set_index('subject_id'), y_abide_raw.set_index('subject_id')], axis=1, join='inner').reset_index()"
   ]
  },
  {
   "cell_type": "code",
   "execution_count": 16,
   "metadata": {},
   "outputs": [
    {
     "name": "stdout",
     "output_type": "stream",
     "text": [
      "(1101, 68)\n",
      "(1101,)\n",
      "(1101,)\n"
     ]
    }
   ],
   "source": [
    "#X_abide_with_subject = full_abide.iloc[:, 0:-4] #remove labels\n",
    "#X_abide = X_abide_with_subject.iloc[:, 1:]   #remove subject id\n",
    "#site_abide = full_abide.iloc[:, -4]\n",
    "#qc3_abide = full_abide.iloc[:,-3:]\n",
    "#qc_abide = qc3_abide.median(axis=1).round()\n",
    "\n",
    "Xrow, Xcol = X_abide.shape\n",
    "yrow = site_abide.shape\n",
    "print(X_abide.shape)\n",
    "print(site_abide.shape)\n",
    "print(qc_abide.shape)"
   ]
  },
  {
   "cell_type": "code",
   "execution_count": 17,
   "metadata": {},
   "outputs": [
    {
     "name": "stdout",
     "output_type": "stream",
     "text": [
      "825 275\n",
      "(825, 68)\n",
      "(275, 68)\n",
      "(825,)\n",
      "(275,)\n",
      "(825,)\n",
      "(275,)\n"
     ]
    }
   ],
   "source": [
    "num_training = int (Xrow*3/4)\n",
    "num_test = Xrow - num_training -1\n",
    "print(num_training, num_test)\n",
    "perm = np.random.permutation(Xrow)\n",
    "train_mask = perm[:num_training]\n",
    "X_train = X_abide.iloc[train_mask,:]\n",
    "site_train = site_abide.iloc[train_mask,]\n",
    "qc_train = qc_abide.iloc[train_mask,]\n",
    "\n",
    "test_mask = perm[num_training:num_training + num_test]\n",
    "X_test = X_abide.iloc[test_mask,:]\n",
    "site_test = site_abide.iloc[test_mask,]\n",
    "qc_test = qc_abide.iloc[test_mask,]\n",
    "\n",
    "print(X_train.shape)\n",
    "print(X_test.shape)\n",
    "\n",
    "print(site_train.shape)\n",
    "print(site_test.shape)\n",
    "\n",
    "print(qc_train.shape)\n",
    "print(qc_test.shape)"
   ]
  },
  {
   "cell_type": "code",
   "execution_count": 18,
   "metadata": {},
   "outputs": [],
   "source": [
    "site_classifier = LogisticRegression(max_iter=100, penalty='l1')\n",
    "site_classifier.fit(X=X_train, y=site_train)\n",
    "site_train_acc = sum((site_classifier.predict(X_train) == site_train))/num_training\n",
    "site_test_acc = sum((site_classifier.predict(X_test) == site_test))/num_test\n",
    "\n",
    "qc_classifier = LogisticRegression(max_iter=100, penalty='l1')\n",
    "qc_classifier.fit(X=X_train, y=qc_train)\n",
    "qc_train_acc = sum((qc_classifier.predict(X_train) == qc_train))/num_training\n",
    "qc_test_acc = sum((qc_classifier.predict(X_test) == qc_test))/num_test"
   ]
  },
  {
   "cell_type": "code",
   "execution_count": 19,
   "metadata": {},
   "outputs": [
    {
     "name": "stdout",
     "output_type": "stream",
     "text": [
      "0.9975757575757576\n",
      "0.9890909090909091\n",
      "0.6993939393939393\n",
      "0.6145454545454545\n"
     ]
    }
   ],
   "source": [
    "print(site_train_acc)\n",
    "print(site_test_acc)\n",
    "\n",
    "print(qc_train_acc)\n",
    "print(qc_test_acc)"
   ]
  },
  {
   "cell_type": "markdown",
   "metadata": {},
   "source": [
    "# ComBat"
   ]
  },
  {
   "cell_type": "code",
   "execution_count": null,
   "metadata": {},
   "outputs": [],
   "source": []
  },
  {
   "cell_type": "markdown",
   "metadata": {},
   "source": [
    "# Preliminary Adversarial Architecture"
   ]
  },
  {
   "cell_type": "code",
   "execution_count": null,
   "metadata": {},
   "outputs": [],
   "source": []
  }
 ],
 "metadata": {
  "kernelspec": {
   "display_name": "Python 3",
   "language": "python",
   "name": "python3"
  },
  "language_info": {
   "codemirror_mode": {
    "name": "ipython",
    "version": 3
   },
   "file_extension": ".py",
   "mimetype": "text/x-python",
   "name": "python",
   "nbconvert_exporter": "python",
   "pygments_lexer": "ipython3",
   "version": "3.6.4"
  }
 },
 "nbformat": 4,
 "nbformat_minor": 2
}
